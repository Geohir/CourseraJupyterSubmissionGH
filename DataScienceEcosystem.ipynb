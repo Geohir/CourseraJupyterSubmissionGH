{
 "cells": [
  {
   "cell_type": "markdown",
   "id": "db9d6e6c-cdfc-410c-bc35-68d76b687cac",
   "metadata": {},
   "source": [
    "# Data Science Tools and Ecosystem"
   ]
  },
  {
   "cell_type": "markdown",
   "id": "d4ab0f98-79bb-443a-b718-24ecb656360d",
   "metadata": {
    "tags": []
   },
   "source": [
    "## _In this notebook, Data Science Tools and Ecosystem are summarized._"
   ]
  },
  {
   "cell_type": "markdown",
   "id": "0c264047-6908-420c-97fd-e3ae8a951c7f",
   "metadata": {},
   "source": [
    "### __Objectives__"
   ]
  },
  {
   "cell_type": "markdown",
   "id": "b0bd6c95-3ec5-4bdf-9719-77d30205a22e",
   "metadata": {},
   "source": [
    "- List popular languages for Data Science\n",
    "- List commonly used libraries used by Data Scientists\n",
    "- Create a table of Data Science tools\n",
    "- Evaluate arithmetic expressions"
   ]
  },
  {
   "cell_type": "markdown",
   "id": "0b6c5d07-9d17-4ec2-a9e7-e20cb4141a2d",
   "metadata": {
    "tags": []
   },
   "source": [
    "#### __Some of the popular languages that Data Scientists use are:__"
   ]
  },
  {
   "cell_type": "markdown",
   "id": "259cfacd-227f-4d4e-b8ba-e610371f65a0",
   "metadata": {},
   "source": [
    "1. Python\n",
    "2. SQL\n",
    "3. R"
   ]
  },
  {
   "cell_type": "markdown",
   "id": "4aa0ce8c-16f9-41b7-b0b7-6221fccba59d",
   "metadata": {},
   "source": [
    "#### __Some of the commonly used libraries used by Data Scientists include:__"
   ]
  },
  {
   "cell_type": "markdown",
   "id": "6d18b4bd-01d9-4815-89d1-b565144840b4",
   "metadata": {},
   "source": [
    "1. NumPy\n",
    "2. Keras\n",
    "3. Pandas"
   ]
  },
  {
   "cell_type": "markdown",
   "id": "37b8d44e-db80-4ca6-8fad-d37b29085da0",
   "metadata": {},
   "source": [
    "|Data Science Tools|\n",
    "|-----|\n",
    "|RStudio|\n",
    "|Apache Spark|\n",
    "|Jupyter|"
   ]
  },
  {
   "cell_type": "markdown",
   "id": "b101ce62-6ab3-40d1-8889-9e6527f091f9",
   "metadata": {},
   "source": [
    "### Below are a few examples of evaluating arithmetic expressions in Python"
   ]
  },
  {
   "cell_type": "code",
   "execution_count": 4,
   "id": "391ea2b1-ed7a-453b-9482-2ca88dc9266a",
   "metadata": {
    "tags": []
   },
   "outputs": [
    {
     "name": "stdout",
     "output_type": "stream",
     "text": [
      "17\n"
     ]
    }
   ],
   "source": [
    "#This is a simple arithmetic expression to multiple then add integers\n",
    "A = 3\n",
    "B = 4\n",
    "C = 5\n",
    "Z = (A*B)+C\n",
    "\n",
    "print(Z)"
   ]
  },
  {
   "cell_type": "code",
   "execution_count": 9,
   "id": "cc3dd179-1ea4-4ec0-b58c-ce3f9734ce76",
   "metadata": {
    "tags": []
   },
   "outputs": [
    {
     "name": "stdout",
     "output_type": "stream",
     "text": [
      "3.33\n"
     ]
    }
   ],
   "source": [
    "# This will convert 200 minutes to hours by diving by 60\n",
    "min = 1\n",
    "hr = min*60\n",
    "z = 200/hr\n",
    "\n",
    "print(round(z,2))"
   ]
  },
  {
   "cell_type": "markdown",
   "id": "fa57dfa1-b1bb-409d-bd9d-f67e6b92d313",
   "metadata": {},
   "source": [
    "## Author"
   ]
  },
  {
   "cell_type": "code",
   "execution_count": 14,
   "id": "b1beade5-e438-4c2a-b264-eb250ada5602",
   "metadata": {
    "tags": []
   },
   "outputs": [
    {
     "name": "stdout",
     "output_type": "stream",
     "text": [
      "George Hirano\n"
     ]
    }
   ],
   "source": [
    "print (\"George Hirano\")"
   ]
  }
 ],
 "metadata": {
  "kernelspec": {
   "display_name": "Python",
   "language": "python",
   "name": "conda-env-python-py"
  },
  "language_info": {
   "codemirror_mode": {
    "name": "ipython",
    "version": 3
   },
   "file_extension": ".py",
   "mimetype": "text/x-python",
   "name": "python",
   "nbconvert_exporter": "python",
   "pygments_lexer": "ipython3",
   "version": "3.7.12"
  }
 },
 "nbformat": 4,
 "nbformat_minor": 5
}
